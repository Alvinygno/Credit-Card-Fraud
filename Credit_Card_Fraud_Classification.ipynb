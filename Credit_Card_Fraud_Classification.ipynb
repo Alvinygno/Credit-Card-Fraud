{
  "cells": [
    {
      "cell_type": "markdown",
      "metadata": {
        "id": "DwMl2nSaFErT"
      },
      "source": [
        "#####Background: The dataset is obtained from Kaggle from 2 day credit card transactions by European cardholder in 2013. Variables V1-V28 are the result of the Principle Component Analysis (PCA) while Time and Amount are the original variables. There are 29 variable columns and 1 Class column. \n",
        "#####Aim: To identify fraud credit card transaction so that customers will not be charged for items that they did not purchase. \n",
        "#####Problem: Data is highly imbalanced, number of genuine transactions are more than fraud transactions.\n",
        "#####Dataset: https://www.kaggle.com/datasets/mlg-ulb/creditcardfraud?resource=download"
      ]
    },
    {
      "cell_type": "markdown",
      "metadata": {
        "id": "Ta_MCZEMCOZL"
      },
      "source": [
        "\n",
        "\n",
        "##Importing library"
      ]
    },
    {
      "cell_type": "code",
      "execution_count": 1,
      "metadata": {
        "id": "KQmSpUEF2Wq-"
      },
      "outputs": [],
      "source": [
        "import numpy as np\n",
        "import pandas as pd\n",
        "import seaborn as sns\n",
        "import matplotlib.pyplot as plt\n",
        "from imblearn.over_sampling import SMOTE\n",
        "from sklearn.model_selection import train_test_split, StratifiedKFold, cross_val_score, GridSearchCV\n",
        "from sklearn.pipeline import make_pipeline\n",
        "from sklearn.preprocessing import StandardScaler\n",
        "from sklearn.tree import DecisionTreeClassifier\n",
        "from xgboost import XGBClassifier\n",
        "from lightgbm import LGBMClassifier\n",
        "from sklearn.metrics import confusion_matrix,auc,roc_auc_score\n",
        "from sklearn.metrics import recall_score, precision_score, accuracy_score, f1_score"
      ]
    },
    {
      "cell_type": "markdown",
      "metadata": {
        "id": "jeHIHXQ-DmhY"
      },
      "source": [
        "##Loading data"
      ]
    },
    {
      "cell_type": "code",
      "execution_count": 2,
      "metadata": {
        "id": "M5vIJCFy2ni9"
      },
      "outputs": [],
      "source": [
        "cc = pd.read_csv(\"/content/drive/MyDrive/Colab Notebooks/Portfolio/CC_Classification/creditcarddata.csv\")"
      ]
    },
    {
      "cell_type": "markdown",
      "metadata": {
        "id": "A3QvdZabDzHY"
      },
      "source": [
        "##Data Understanding & Cleaning"
      ]
    },
    {
      "cell_type": "code",
      "execution_count": 3,
      "metadata": {
        "colab": {
          "base_uri": "https://localhost:8080/",
          "height": 299
        },
        "id": "ZgAMf7jN31wj",
        "outputId": "74ee42c3-9c58-40f0-aee4-32440f66b595"
      },
      "outputs": [
        {
          "output_type": "execute_result",
          "data": {
            "text/plain": [
              "   Time        V1        V2        V3        V4        V5        V6        V7  \\\n",
              "0   0.0 -1.359807 -0.072781  2.536347  1.378155 -0.338321  0.462388  0.239599   \n",
              "1   0.0  1.191857  0.266151  0.166480  0.448154  0.060018 -0.082361 -0.078803   \n",
              "2   1.0 -1.358354 -1.340163  1.773209  0.379780 -0.503198  1.800499  0.791461   \n",
              "3   1.0 -0.966272 -0.185226  1.792993 -0.863291 -0.010309  1.247203  0.237609   \n",
              "4   2.0 -1.158233  0.877737  1.548718  0.403034 -0.407193  0.095921  0.592941   \n",
              "\n",
              "         V8        V9  ...       V21       V22       V23       V24       V25  \\\n",
              "0  0.098698  0.363787  ... -0.018307  0.277838 -0.110474  0.066928  0.128539   \n",
              "1  0.085102 -0.255425  ... -0.225775 -0.638672  0.101288 -0.339846  0.167170   \n",
              "2  0.247676 -1.514654  ...  0.247998  0.771679  0.909412 -0.689281 -0.327642   \n",
              "3  0.377436 -1.387024  ... -0.108300  0.005274 -0.190321 -1.175575  0.647376   \n",
              "4 -0.270533  0.817739  ... -0.009431  0.798278 -0.137458  0.141267 -0.206010   \n",
              "\n",
              "        V26       V27       V28  Amount  Class  \n",
              "0 -0.189115  0.133558 -0.021053  149.62      0  \n",
              "1  0.125895 -0.008983  0.014724    2.69      0  \n",
              "2 -0.139097 -0.055353 -0.059752  378.66      0  \n",
              "3 -0.221929  0.062723  0.061458  123.50      0  \n",
              "4  0.502292  0.219422  0.215153   69.99      0  \n",
              "\n",
              "[5 rows x 31 columns]"
            ],
            "text/html": [
              "\n",
              "  <div id=\"df-136d437c-3a9f-4936-889a-291868076e54\">\n",
              "    <div class=\"colab-df-container\">\n",
              "      <div>\n",
              "<style scoped>\n",
              "    .dataframe tbody tr th:only-of-type {\n",
              "        vertical-align: middle;\n",
              "    }\n",
              "\n",
              "    .dataframe tbody tr th {\n",
              "        vertical-align: top;\n",
              "    }\n",
              "\n",
              "    .dataframe thead th {\n",
              "        text-align: right;\n",
              "    }\n",
              "</style>\n",
              "<table border=\"1\" class=\"dataframe\">\n",
              "  <thead>\n",
              "    <tr style=\"text-align: right;\">\n",
              "      <th></th>\n",
              "      <th>Time</th>\n",
              "      <th>V1</th>\n",
              "      <th>V2</th>\n",
              "      <th>V3</th>\n",
              "      <th>V4</th>\n",
              "      <th>V5</th>\n",
              "      <th>V6</th>\n",
              "      <th>V7</th>\n",
              "      <th>V8</th>\n",
              "      <th>V9</th>\n",
              "      <th>...</th>\n",
              "      <th>V21</th>\n",
              "      <th>V22</th>\n",
              "      <th>V23</th>\n",
              "      <th>V24</th>\n",
              "      <th>V25</th>\n",
              "      <th>V26</th>\n",
              "      <th>V27</th>\n",
              "      <th>V28</th>\n",
              "      <th>Amount</th>\n",
              "      <th>Class</th>\n",
              "    </tr>\n",
              "  </thead>\n",
              "  <tbody>\n",
              "    <tr>\n",
              "      <th>0</th>\n",
              "      <td>0.0</td>\n",
              "      <td>-1.359807</td>\n",
              "      <td>-0.072781</td>\n",
              "      <td>2.536347</td>\n",
              "      <td>1.378155</td>\n",
              "      <td>-0.338321</td>\n",
              "      <td>0.462388</td>\n",
              "      <td>0.239599</td>\n",
              "      <td>0.098698</td>\n",
              "      <td>0.363787</td>\n",
              "      <td>...</td>\n",
              "      <td>-0.018307</td>\n",
              "      <td>0.277838</td>\n",
              "      <td>-0.110474</td>\n",
              "      <td>0.066928</td>\n",
              "      <td>0.128539</td>\n",
              "      <td>-0.189115</td>\n",
              "      <td>0.133558</td>\n",
              "      <td>-0.021053</td>\n",
              "      <td>149.62</td>\n",
              "      <td>0</td>\n",
              "    </tr>\n",
              "    <tr>\n",
              "      <th>1</th>\n",
              "      <td>0.0</td>\n",
              "      <td>1.191857</td>\n",
              "      <td>0.266151</td>\n",
              "      <td>0.166480</td>\n",
              "      <td>0.448154</td>\n",
              "      <td>0.060018</td>\n",
              "      <td>-0.082361</td>\n",
              "      <td>-0.078803</td>\n",
              "      <td>0.085102</td>\n",
              "      <td>-0.255425</td>\n",
              "      <td>...</td>\n",
              "      <td>-0.225775</td>\n",
              "      <td>-0.638672</td>\n",
              "      <td>0.101288</td>\n",
              "      <td>-0.339846</td>\n",
              "      <td>0.167170</td>\n",
              "      <td>0.125895</td>\n",
              "      <td>-0.008983</td>\n",
              "      <td>0.014724</td>\n",
              "      <td>2.69</td>\n",
              "      <td>0</td>\n",
              "    </tr>\n",
              "    <tr>\n",
              "      <th>2</th>\n",
              "      <td>1.0</td>\n",
              "      <td>-1.358354</td>\n",
              "      <td>-1.340163</td>\n",
              "      <td>1.773209</td>\n",
              "      <td>0.379780</td>\n",
              "      <td>-0.503198</td>\n",
              "      <td>1.800499</td>\n",
              "      <td>0.791461</td>\n",
              "      <td>0.247676</td>\n",
              "      <td>-1.514654</td>\n",
              "      <td>...</td>\n",
              "      <td>0.247998</td>\n",
              "      <td>0.771679</td>\n",
              "      <td>0.909412</td>\n",
              "      <td>-0.689281</td>\n",
              "      <td>-0.327642</td>\n",
              "      <td>-0.139097</td>\n",
              "      <td>-0.055353</td>\n",
              "      <td>-0.059752</td>\n",
              "      <td>378.66</td>\n",
              "      <td>0</td>\n",
              "    </tr>\n",
              "    <tr>\n",
              "      <th>3</th>\n",
              "      <td>1.0</td>\n",
              "      <td>-0.966272</td>\n",
              "      <td>-0.185226</td>\n",
              "      <td>1.792993</td>\n",
              "      <td>-0.863291</td>\n",
              "      <td>-0.010309</td>\n",
              "      <td>1.247203</td>\n",
              "      <td>0.237609</td>\n",
              "      <td>0.377436</td>\n",
              "      <td>-1.387024</td>\n",
              "      <td>...</td>\n",
              "      <td>-0.108300</td>\n",
              "      <td>0.005274</td>\n",
              "      <td>-0.190321</td>\n",
              "      <td>-1.175575</td>\n",
              "      <td>0.647376</td>\n",
              "      <td>-0.221929</td>\n",
              "      <td>0.062723</td>\n",
              "      <td>0.061458</td>\n",
              "      <td>123.50</td>\n",
              "      <td>0</td>\n",
              "    </tr>\n",
              "    <tr>\n",
              "      <th>4</th>\n",
              "      <td>2.0</td>\n",
              "      <td>-1.158233</td>\n",
              "      <td>0.877737</td>\n",
              "      <td>1.548718</td>\n",
              "      <td>0.403034</td>\n",
              "      <td>-0.407193</td>\n",
              "      <td>0.095921</td>\n",
              "      <td>0.592941</td>\n",
              "      <td>-0.270533</td>\n",
              "      <td>0.817739</td>\n",
              "      <td>...</td>\n",
              "      <td>-0.009431</td>\n",
              "      <td>0.798278</td>\n",
              "      <td>-0.137458</td>\n",
              "      <td>0.141267</td>\n",
              "      <td>-0.206010</td>\n",
              "      <td>0.502292</td>\n",
              "      <td>0.219422</td>\n",
              "      <td>0.215153</td>\n",
              "      <td>69.99</td>\n",
              "      <td>0</td>\n",
              "    </tr>\n",
              "  </tbody>\n",
              "</table>\n",
              "<p>5 rows × 31 columns</p>\n",
              "</div>\n",
              "      <button class=\"colab-df-convert\" onclick=\"convertToInteractive('df-136d437c-3a9f-4936-889a-291868076e54')\"\n",
              "              title=\"Convert this dataframe to an interactive table.\"\n",
              "              style=\"display:none;\">\n",
              "        \n",
              "  <svg xmlns=\"http://www.w3.org/2000/svg\" height=\"24px\"viewBox=\"0 0 24 24\"\n",
              "       width=\"24px\">\n",
              "    <path d=\"M0 0h24v24H0V0z\" fill=\"none\"/>\n",
              "    <path d=\"M18.56 5.44l.94 2.06.94-2.06 2.06-.94-2.06-.94-.94-2.06-.94 2.06-2.06.94zm-11 1L8.5 8.5l.94-2.06 2.06-.94-2.06-.94L8.5 2.5l-.94 2.06-2.06.94zm10 10l.94 2.06.94-2.06 2.06-.94-2.06-.94-.94-2.06-.94 2.06-2.06.94z\"/><path d=\"M17.41 7.96l-1.37-1.37c-.4-.4-.92-.59-1.43-.59-.52 0-1.04.2-1.43.59L10.3 9.45l-7.72 7.72c-.78.78-.78 2.05 0 2.83L4 21.41c.39.39.9.59 1.41.59.51 0 1.02-.2 1.41-.59l7.78-7.78 2.81-2.81c.8-.78.8-2.07 0-2.86zM5.41 20L4 18.59l7.72-7.72 1.47 1.35L5.41 20z\"/>\n",
              "  </svg>\n",
              "      </button>\n",
              "      \n",
              "  <style>\n",
              "    .colab-df-container {\n",
              "      display:flex;\n",
              "      flex-wrap:wrap;\n",
              "      gap: 12px;\n",
              "    }\n",
              "\n",
              "    .colab-df-convert {\n",
              "      background-color: #E8F0FE;\n",
              "      border: none;\n",
              "      border-radius: 50%;\n",
              "      cursor: pointer;\n",
              "      display: none;\n",
              "      fill: #1967D2;\n",
              "      height: 32px;\n",
              "      padding: 0 0 0 0;\n",
              "      width: 32px;\n",
              "    }\n",
              "\n",
              "    .colab-df-convert:hover {\n",
              "      background-color: #E2EBFA;\n",
              "      box-shadow: 0px 1px 2px rgba(60, 64, 67, 0.3), 0px 1px 3px 1px rgba(60, 64, 67, 0.15);\n",
              "      fill: #174EA6;\n",
              "    }\n",
              "\n",
              "    [theme=dark] .colab-df-convert {\n",
              "      background-color: #3B4455;\n",
              "      fill: #D2E3FC;\n",
              "    }\n",
              "\n",
              "    [theme=dark] .colab-df-convert:hover {\n",
              "      background-color: #434B5C;\n",
              "      box-shadow: 0px 1px 3px 1px rgba(0, 0, 0, 0.15);\n",
              "      filter: drop-shadow(0px 1px 2px rgba(0, 0, 0, 0.3));\n",
              "      fill: #FFFFFF;\n",
              "    }\n",
              "  </style>\n",
              "\n",
              "      <script>\n",
              "        const buttonEl =\n",
              "          document.querySelector('#df-136d437c-3a9f-4936-889a-291868076e54 button.colab-df-convert');\n",
              "        buttonEl.style.display =\n",
              "          google.colab.kernel.accessAllowed ? 'block' : 'none';\n",
              "\n",
              "        async function convertToInteractive(key) {\n",
              "          const element = document.querySelector('#df-136d437c-3a9f-4936-889a-291868076e54');\n",
              "          const dataTable =\n",
              "            await google.colab.kernel.invokeFunction('convertToInteractive',\n",
              "                                                     [key], {});\n",
              "          if (!dataTable) return;\n",
              "\n",
              "          const docLinkHtml = 'Like what you see? Visit the ' +\n",
              "            '<a target=\"_blank\" href=https://colab.research.google.com/notebooks/data_table.ipynb>data table notebook</a>'\n",
              "            + ' to learn more about interactive tables.';\n",
              "          element.innerHTML = '';\n",
              "          dataTable['output_type'] = 'display_data';\n",
              "          await google.colab.output.renderOutput(dataTable, element);\n",
              "          const docLink = document.createElement('div');\n",
              "          docLink.innerHTML = docLinkHtml;\n",
              "          element.appendChild(docLink);\n",
              "        }\n",
              "      </script>\n",
              "    </div>\n",
              "  </div>\n",
              "  "
            ]
          },
          "metadata": {},
          "execution_count": 3
        }
      ],
      "source": [
        "#Listing the first 5 rows of the dataset\n",
        "cc.head()"
      ]
    },
    {
      "cell_type": "code",
      "execution_count": 4,
      "metadata": {
        "colab": {
          "base_uri": "https://localhost:8080/"
        },
        "id": "YuNTu6Ib4CD9",
        "outputId": "73de784d-b15a-46e7-eff8-4943ec063fef"
      },
      "outputs": [
        {
          "output_type": "execute_result",
          "data": {
            "text/plain": [
              "(284807, 31)"
            ]
          },
          "metadata": {},
          "execution_count": 4
        }
      ],
      "source": [
        "#Number of columns and rows of the dataset\n",
        "cc.shape"
      ]
    },
    {
      "cell_type": "code",
      "execution_count": 5,
      "metadata": {
        "colab": {
          "base_uri": "https://localhost:8080/"
        },
        "id": "Oza3XoMrGFKz",
        "outputId": "9359a436-63da-421b-f611-2099b2ff3e30"
      },
      "outputs": [
        {
          "output_type": "stream",
          "name": "stdout",
          "text": [
            "0    284315\n",
            "1       492\n",
            "Name: Class, dtype: int64\n"
          ]
        }
      ],
      "source": [
        "#Number of transaction by Class type\n",
        "print(cc[\"Class\"].value_counts())"
      ]
    },
    {
      "cell_type": "code",
      "execution_count": 6,
      "metadata": {
        "colab": {
          "base_uri": "https://localhost:8080/"
        },
        "id": "uAN6qedOY8e4",
        "outputId": "b76ec0fd-f1fe-4b15-855b-7505424ed69c"
      },
      "outputs": [
        {
          "output_type": "stream",
          "name": "stdout",
          "text": [
            "0    99.827251\n",
            "1     0.172749\n",
            "Name: Class, dtype: float64\n"
          ]
        }
      ],
      "source": [
        "print((cc[\"Class\"].value_counts()/len(cc)*100))"
      ]
    },
    {
      "cell_type": "code",
      "execution_count": 7,
      "metadata": {
        "colab": {
          "base_uri": "https://localhost:8080/"
        },
        "id": "PTyh-3XOErYI",
        "outputId": "c54c5863-c924-4b39-affe-7adbb0c9db3a"
      },
      "outputs": [
        {
          "output_type": "stream",
          "name": "stdout",
          "text": [
            "Total number of credit card transaction recorded:284807 \n",
            " Total number of genuine transaction: 284315 \n",
            " Total number of genuine transaction: 492 \n",
            " Percentage of fraud transaction: 0.17 \n",
            "\n"
          ]
        }
      ],
      "source": [
        "#Basic summary of the dataset\n",
        "print(\"Total number of credit card transaction recorded:{} \\n\".format(cc.shape[0]), \"Total number of genuine transaction: {} \\n\".format(284315), \n",
        "      \"Total number of genuine transaction: {} \\n\".format(492), \"Percentage of fraud transaction: {} \\n\".format(0.17))"
      ]
    },
    {
      "cell_type": "code",
      "execution_count": 8,
      "metadata": {
        "colab": {
          "base_uri": "https://localhost:8080/"
        },
        "id": "um28Ovfq4E84",
        "outputId": "48e1e250-05e9-474b-d404-f332a73a8138"
      },
      "outputs": [
        {
          "output_type": "stream",
          "name": "stdout",
          "text": [
            "<class 'pandas.core.frame.DataFrame'>\n",
            "RangeIndex: 284807 entries, 0 to 284806\n",
            "Data columns (total 31 columns):\n",
            " #   Column  Non-Null Count   Dtype  \n",
            "---  ------  --------------   -----  \n",
            " 0   Time    284807 non-null  float64\n",
            " 1   V1      284807 non-null  float64\n",
            " 2   V2      284807 non-null  float64\n",
            " 3   V3      284807 non-null  float64\n",
            " 4   V4      284807 non-null  float64\n",
            " 5   V5      284807 non-null  float64\n",
            " 6   V6      284807 non-null  float64\n",
            " 7   V7      284807 non-null  float64\n",
            " 8   V8      284807 non-null  float64\n",
            " 9   V9      284807 non-null  float64\n",
            " 10  V10     284807 non-null  float64\n",
            " 11  V11     284807 non-null  float64\n",
            " 12  V12     284807 non-null  float64\n",
            " 13  V13     284807 non-null  float64\n",
            " 14  V14     284807 non-null  float64\n",
            " 15  V15     284807 non-null  float64\n",
            " 16  V16     284807 non-null  float64\n",
            " 17  V17     284807 non-null  float64\n",
            " 18  V18     284807 non-null  float64\n",
            " 19  V19     284807 non-null  float64\n",
            " 20  V20     284807 non-null  float64\n",
            " 21  V21     284807 non-null  float64\n",
            " 22  V22     284807 non-null  float64\n",
            " 23  V23     284807 non-null  float64\n",
            " 24  V24     284807 non-null  float64\n",
            " 25  V25     284807 non-null  float64\n",
            " 26  V26     284807 non-null  float64\n",
            " 27  V27     284807 non-null  float64\n",
            " 28  V28     284807 non-null  float64\n",
            " 29  Amount  284807 non-null  float64\n",
            " 30  Class   284807 non-null  int64  \n",
            "dtypes: float64(30), int64(1)\n",
            "memory usage: 67.4 MB\n"
          ]
        }
      ],
      "source": [
        "cc.info()"
      ]
    },
    {
      "cell_type": "markdown",
      "metadata": {
        "id": "lZ-KzFMUhAMf"
      },
      "source": [
        "#####There is no missing value."
      ]
    },
    {
      "cell_type": "code",
      "execution_count": 9,
      "metadata": {
        "colab": {
          "base_uri": "https://localhost:8080/",
          "height": 265
        },
        "id": "UqgJzk1z4XaQ",
        "outputId": "ca17d1a9-688f-4904-b2c8-72a3d72b988d"
      },
      "outputs": [
        {
          "output_type": "stream",
          "name": "stdout",
          "text": [
            "Distribution of Class variable\n"
          ]
        },
        {
          "output_type": "display_data",
          "data": {
            "text/plain": [
              "<Figure size 432x288 with 1 Axes>"
            ],
            "image/png": "[encoded data removed]"
          },
          "metadata": {}
        }
      ],
      "source": [
        "#View on Class column, 0 is genuine transaction while 1 is fraud transaction\n",
        "fig, ax = plt.subplots(1, 1)\n",
        "ax.pie(cc.Class.value_counts(), autopct=\"%1.1f%%\", labels=[\"Genuine\", \"Fraud\"], colors=[\"lightblue\", \"red\"])\n",
        "plt.axis(\"equal\")\n",
        "plt.ylabel(\"\")\n",
        "\n",
        "print(\"Distribution of Class variable\")"
      ]
    },
    {
      "cell_type": "markdown",
      "metadata": {
        "id": "2CsCOH870J5i"
      },
      "source": [
        "#####Genuine credit card transaction is more than Fraud credit card transaction. This shows that the dataset is highly imbalanced. However, this is normal situation nowsaday as banks has strong security system yet there is some vulnerablity in their system."
      ]
    },
    {
      "cell_type": "code",
      "execution_count": 10,
      "metadata": {
        "colab": {
          "base_uri": "https://localhost:8080/",
          "height": 525
        },
        "id": "HGk0Qw-Lg-08",
        "outputId": "2ff6819c-aba1-4b9e-c435-b4a1a793271c"
      },
      "outputs": [
        {
          "output_type": "stream",
          "name": "stdout",
          "text": [
            "284802    47.996111\n",
            "284803    47.996389\n",
            "284804    47.996667\n",
            "284805    47.996667\n",
            "284806    47.997778\n",
            "Name: Time_Hr, dtype: float64\n",
            "Time variable\n"
          ]
        },
        {
          "output_type": "display_data",
          "data": {
            "text/plain": [
              "<Figure size 432x432 with 2 Axes>"
            ],
            "image/png": "[encoded data removed]"
          },
          "metadata": {
            "needs_background": "light"
          }
        }
      ],
      "source": [
        "#Visual any trend based on time\n",
        "cc[\"Time_Hr\"] = cc[\"Time\"]/3600 # convert to hours\n",
        "print(cc[\"Time_Hr\"].tail(5))\n",
        "fig, (ax1, ax2) = plt.subplots(2, 1, sharex = True, figsize=(6,6))\n",
        "ax1.hist(cc.Time_Hr[cc.Class==0],bins=48,color='g',alpha=0.5)\n",
        "ax1.set_title('Genuine')\n",
        "ax2.hist(cc.Time_Hr[cc.Class==1],bins=48,color='r',alpha=0.5)\n",
        "ax2.set_title('Fraud')\n",
        "plt.xlabel('Time (hrs)')\n",
        "plt.ylabel('Number of transactions')\n",
        "\n",
        "print(\"Time variable\")"
      ]
    },
    {
      "cell_type": "markdown",
      "metadata": {
        "id": "F2svhKhZNfXF"
      },
      "source": [
        "#####The Time variable shows almost similar pattern against the number of transaction for both Genuine and Fraus transactions. Thus, this variable might not yield any predictive power to distinguish between the two classes. For now, I will only keep Time_Hr and drop Time."
      ]
    },
    {
      "cell_type": "code",
      "execution_count": 11,
      "metadata": {
        "colab": {
          "base_uri": "https://localhost:8080/",
          "height": 0
        },
        "id": "vAXc2dNpNhve",
        "outputId": "3e50b4e4-554e-4224-9775-ea1ac23c54cf"
      },
      "outputs": [
        {
          "output_type": "execute_result",
          "data": {
            "text/plain": [
              "         V1        V2        V3        V4        V5        V6        V7  \\\n",
              "0 -1.359807 -0.072781  2.536347  1.378155 -0.338321  0.462388  0.239599   \n",
              "1  1.191857  0.266151  0.166480  0.448154  0.060018 -0.082361 -0.078803   \n",
              "2 -1.358354 -1.340163  1.773209  0.379780 -0.503198  1.800499  0.791461   \n",
              "3 -0.966272 -0.185226  1.792993 -0.863291 -0.010309  1.247203  0.237609   \n",
              "4 -1.158233  0.877737  1.548718  0.403034 -0.407193  0.095921  0.592941   \n",
              "\n",
              "         V8        V9       V10  ...       V22       V23       V24       V25  \\\n",
              "0  0.098698  0.363787  0.090794  ...  0.277838 -0.110474  0.066928  0.128539   \n",
              "1  0.085102 -0.255425 -0.166974  ... -0.638672  0.101288 -0.339846  0.167170   \n",
              "2  0.247676 -1.514654  0.207643  ...  0.771679  0.909412 -0.689281 -0.327642   \n",
              "3  0.377436 -1.387024 -0.054952  ...  0.005274 -0.190321 -1.175575  0.647376   \n",
              "4 -0.270533  0.817739  0.753074  ...  0.798278 -0.137458  0.141267 -0.206010   \n",
              "\n",
              "        V26       V27       V28  Amount  Class   Time_Hr  \n",
              "0 -0.189115  0.133558 -0.021053  149.62      0  0.000000  \n",
              "1  0.125895 -0.008983  0.014724    2.69      0  0.000000  \n",
              "2 -0.139097 -0.055353 -0.059752  378.66      0  0.000278  \n",
              "3 -0.221929  0.062723  0.061458  123.50      0  0.000278  \n",
              "4  0.502292  0.219422  0.215153   69.99      0  0.000556  \n",
              "\n",
              "[5 rows x 31 columns]"
            ],
            "text/html": [
              "\n",
              "  <div id=\"df-b0e6252f-cd6c-490d-ba50-825909b248f1\">\n",
              "    <div class=\"colab-df-container\">\n",
              "      <div>\n",
              "<style scoped>\n",
              "    .dataframe tbody tr th:only-of-type {\n",
              "        vertical-align: middle;\n",
              "    }\n",
              "\n",
              "    .dataframe tbody tr th {\n",
              "        vertical-align: top;\n",
              "    }\n",
              "\n",
              "    .dataframe thead th {\n",
              "        text-align: right;\n",
              "    }\n",
              "</style>\n",
              "<table border=\"1\" class=\"dataframe\">\n",
              "  <thead>\n",
              "    <tr style=\"text-align: right;\">\n",
              "      <th></th>\n",
              "      <th>V1</th>\n",
              "      <th>V2</th>\n",
              "      <th>V3</th>\n",
              "      <th>V4</th>\n",
              "      <th>V5</th>\n",
              "      <th>V6</th>\n",
              "      <th>V7</th>\n",
              "      <th>V8</th>\n",
              "      <th>V9</th>\n",
              "      <th>V10</th>\n",
              "      <th>...</th>\n",
              "      <th>V22</th>\n",
              "      <th>V23</th>\n",
              "      <th>V24</th>\n",
              "      <th>V25</th>\n",
              "      <th>V26</th>\n",
              "      <th>V27</th>\n",
              "      <th>V28</th>\n",
              "      <th>Amount</th>\n",
              "      <th>Class</th>\n",
              "      <th>Time_Hr</th>\n",
              "    </tr>\n",
              "  </thead>\n",
              "  <tbody>\n",
              "    <tr>\n",
              "      <th>0</th>\n",
              "      <td>-1.359807</td>\n",
              "      <td>-0.072781</td>\n",
              "      <td>2.536347</td>\n",
              "      <td>1.378155</td>\n",
              "      <td>-0.338321</td>\n",
              "      <td>0.462388</td>\n",
              "      <td>0.239599</td>\n",
              "      <td>0.098698</td>\n",
              "      <td>0.363787</td>\n",
              "      <td>0.090794</td>\n",
              "      <td>...</td>\n",
              "      <td>0.277838</td>\n",
              "      <td>-0.110474</td>\n",
              "      <td>0.066928</td>\n",
              "      <td>0.128539</td>\n",
              "      <td>-0.189115</td>\n",
              "      <td>0.133558</td>\n",
              "      <td>-0.021053</td>\n",
              "      <td>149.62</td>\n",
              "      <td>0</td>\n",
              "      <td>0.000000</td>\n",
              "    </tr>\n",
              "    <tr>\n",
              "      <th>1</th>\n",
              "      <td>1.191857</td>\n",
              "      <td>0.266151</td>\n",
              "      <td>0.166480</td>\n",
              "      <td>0.448154</td>\n",
              "      <td>0.060018</td>\n",
              "      <td>-0.082361</td>\n",
              "      <td>-0.078803</td>\n",
              "      <td>0.085102</td>\n",
              "      <td>-0.255425</td>\n",
              "      <td>-0.166974</td>\n",
              "      <td>...</td>\n",
              "      <td>-0.638672</td>\n",
              "      <td>0.101288</td>\n",
              "      <td>-0.339846</td>\n",
              "      <td>0.167170</td>\n",
              "      <td>0.125895</td>\n",
              "      <td>-0.008983</td>\n",
              "      <td>0.014724</td>\n",
              "      <td>2.69</td>\n",
              "      <td>0</td>\n",
              "      <td>0.000000</td>\n",
              "    </tr>\n",
              "    <tr>\n",
              "      <th>2</th>\n",
              "      <td>-1.358354</td>\n",
              "      <td>-1.340163</td>\n",
              "      <td>1.773209</td>\n",
              "      <td>0.379780</td>\n",
              "      <td>-0.503198</td>\n",
              "      <td>1.800499</td>\n",
              "      <td>0.791461</td>\n",
              "      <td>0.247676</td>\n",
              "      <td>-1.514654</td>\n",
              "      <td>0.207643</td>\n",
              "      <td>...</td>\n",
              "      <td>0.771679</td>\n",
              "      <td>0.909412</td>\n",
              "      <td>-0.689281</td>\n",
              "      <td>-0.327642</td>\n",
              "      <td>-0.139097</td>\n",
              "      <td>-0.055353</td>\n",
              "      <td>-0.059752</td>\n",
              "      <td>378.66</td>\n",
              "      <td>0</td>\n",
              "      <td>0.000278</td>\n",
              "    </tr>\n",
              "    <tr>\n",
              "      <th>3</th>\n",
              "      <td>-0.966272</td>\n",
              "      <td>-0.185226</td>\n",
              "      <td>1.792993</td>\n",
              "      <td>-0.863291</td>\n",
              "      <td>-0.010309</td>\n",
              "      <td>1.247203</td>\n",
              "      <td>0.237609</td>\n",
              "      <td>0.377436</td>\n",
              "      <td>-1.387024</td>\n",
              "      <td>-0.054952</td>\n",
              "      <td>...</td>\n",
              "      <td>0.005274</td>\n",
              "      <td>-0.190321</td>\n",
              "      <td>-1.175575</td>\n",
              "      <td>0.647376</td>\n",
              "      <td>-0.221929</td>\n",
              "      <td>0.062723</td>\n",
              "      <td>0.061458</td>\n",
              "      <td>123.50</td>\n",
              "      <td>0</td>\n",
              "      <td>0.000278</td>\n",
              "    </tr>\n",
              "    <tr>\n",
              "      <th>4</th>\n",
              "      <td>-1.158233</td>\n",
              "      <td>0.877737</td>\n",
              "      <td>1.548718</td>\n",
              "      <td>0.403034</td>\n",
              "      <td>-0.407193</td>\n",
              "      <td>0.095921</td>\n",
              "      <td>0.592941</td>\n",
              "      <td>-0.270533</td>\n",
              "      <td>0.817739</td>\n",
              "      <td>0.753074</td>\n",
              "      <td>...</td>\n",
              "      <td>0.798278</td>\n",
              "      <td>-0.137458</td>\n",
              "      <td>0.141267</td>\n",
              "      <td>-0.206010</td>\n",
              "      <td>0.502292</td>\n",
              "      <td>0.219422</td>\n",
              "      <td>0.215153</td>\n",
              "      <td>69.99</td>\n",
              "      <td>0</td>\n",
              "      <td>0.000556</td>\n",
              "    </tr>\n",
              "  </tbody>\n",
              "</table>\n",
              "<p>5 rows × 31 columns</p>\n",
              "</div>\n",
              "      <button class=\"colab-df-convert\" onclick=\"convertToInteractive('df-b0e6252f-cd6c-490d-ba50-825909b248f1')\"\n",
              "              title=\"Convert this dataframe to an interactive table.\"\n",
              "              style=\"display:none;\">\n",
              "        \n",
              "  <svg xmlns=\"http://www.w3.org/2000/svg\" height=\"24px\"viewBox=\"0 0 24 24\"\n",
              "       width=\"24px\">\n",
              "    <path d=\"M0 0h24v24H0V0z\" fill=\"none\"/>\n",
              "    <path d=\"M18.56 5.44l.94 2.06.94-2.06 2.06-.94-2.06-.94-.94-2.06-.94 2.06-2.06.94zm-11 1L8.5 8.5l.94-2.06 2.06-.94-2.06-.94L8.5 2.5l-.94 2.06-2.06.94zm10 10l.94 2.06.94-2.06 2.06-.94-2.06-.94-.94-2.06-.94 2.06-2.06.94z\"/><path d=\"M17.41 7.96l-1.37-1.37c-.4-.4-.92-.59-1.43-.59-.52 0-1.04.2-1.43.59L10.3 9.45l-7.72 7.72c-.78.78-.78 2.05 0 2.83L4 21.41c.39.39.9.59 1.41.59.51 0 1.02-.2 1.41-.59l7.78-7.78 2.81-2.81c.8-.78.8-2.07 0-2.86zM5.41 20L4 18.59l7.72-7.72 1.47 1.35L5.41 20z\"/>\n",
              "  </svg>\n",
              "      </button>\n",
              "      \n",
              "  <style>\n",
              "    .colab-df-container {\n",
              "      display:flex;\n",
              "      flex-wrap:wrap;\n",
              "      gap: 12px;\n",
              "    }\n",
              "\n",
              "    .colab-df-convert {\n",
              "      background-color: #E8F0FE;\n",
              "      border: none;\n",
              "      border-radius: 50%;\n",
              "      cursor: pointer;\n",
              "      display: none;\n",
              "      fill: #1967D2;\n",
              "      height: 32px;\n",
              "      padding: 0 0 0 0;\n",
              "      width: 32px;\n",
              "    }\n",
              "\n",
              "    .colab-df-convert:hover {\n",
              "      background-color: #E2EBFA;\n",
              "      box-shadow: 0px 1px 2px rgba(60, 64, 67, 0.3), 0px 1px 3px 1px rgba(60, 64, 67, 0.15);\n",
              "      fill: #174EA6;\n",
              "    }\n",
              "\n",
              "    [theme=dark] .colab-df-convert {\n",
              "      background-color: #3B4455;\n",
              "      fill: #D2E3FC;\n",
              "    }\n",
              "\n",
              "    [theme=dark] .colab-df-convert:hover {\n",
              "      background-color: #434B5C;\n",
              "      box-shadow: 0px 1px 3px 1px rgba(0, 0, 0, 0.15);\n",
              "      filter: drop-shadow(0px 1px 2px rgba(0, 0, 0, 0.3));\n",
              "      fill: #FFFFFF;\n",
              "    }\n",
              "  </style>\n",
              "\n",
              "      <script>\n",
              "        const buttonEl =\n",
              "          document.querySelector('#df-b0e6252f-cd6c-490d-ba50-825909b248f1 button.colab-df-convert');\n",
              "        buttonEl.style.display =\n",
              "          google.colab.kernel.accessAllowed ? 'block' : 'none';\n",
              "\n",
              "        async function convertToInteractive(key) {\n",
              "          const element = document.querySelector('#df-b0e6252f-cd6c-490d-ba50-825909b248f1');\n",
              "          const dataTable =\n",
              "            await google.colab.kernel.invokeFunction('convertToInteractive',\n",
              "                                                     [key], {});\n",
              "          if (!dataTable) return;\n",
              "\n",
              "          const docLinkHtml = 'Like what you see? Visit the ' +\n",
              "            '<a target=\"_blank\" href=https://colab.research.google.com/notebooks/data_table.ipynb>data table notebook</a>'\n",
              "            + ' to learn more about interactive tables.';\n",
              "          element.innerHTML = '';\n",
              "          dataTable['output_type'] = 'display_data';\n",
              "          await google.colab.output.renderOutput(dataTable, element);\n",
              "          const docLink = document.createElement('div');\n",
              "          docLink.innerHTML = docLinkHtml;\n",
              "          element.appendChild(docLink);\n",
              "        }\n",
              "      </script>\n",
              "    </div>\n",
              "  </div>\n",
              "  "
            ]
          },
          "metadata": {},
          "execution_count": 11
        }
      ],
      "source": [
        "#Drop Time variable from the original dataset\n",
        "\n",
        "cc = cc.drop([\"Time\"], axis=1)\n",
        "cc.head()"
      ]
    },
    {
      "cell_type": "code",
      "execution_count": 12,
      "metadata": {
        "colab": {
          "base_uri": "https://localhost:8080/",
          "height": 0
        },
        "id": "0qF3Cjz1dlWi",
        "outputId": "7b1488ca-425a-4b48-c350-4608540a4bd0"
      },
      "outputs": [
        {
          "output_type": "execute_result",
          "data": {
            "text/plain": [
              "Text(0, 0.5, 'Number of transactions')"
            ]
          },
          "metadata": {},
          "execution_count": 12
        },
        {
          "output_type": "display_data",
          "data": {
            "text/plain": [
              "<Figure size 432x216 with 2 Axes>"
            ],
            "image/png": "[encoded data removed]"
          },
          "metadata": {
            "needs_background": "light"
          }
        }
      ],
      "source": [
        "#Check on Amount variable\n",
        "fig, (ax3,ax4) = plt.subplots(2,1, figsize = (6,3), sharex = True)\n",
        "ax3.hist(cc.Amount[cc.Class==0],bins=50,color='g',alpha=0.5)\n",
        "ax3.set_yscale('log') # to see the tails\n",
        "ax3.set_title('Genuine') # to see the tails\n",
        "ax3.set_ylabel('Number of transactions')\n",
        "ax4.hist(cc.Amount[cc.Class==1],bins=50,color='r',alpha=0.5)\n",
        "ax4.set_yscale('log') # to see the tails\n",
        "ax4.set_title('Fraud') # to see the tails\n",
        "ax4.set_xlabel('Amount ($)')\n",
        "ax4.set_ylabel('Number of transactions')"
      ]
    },
    {
      "cell_type": "code",
      "execution_count": 13,
      "metadata": {
        "colab": {
          "base_uri": "https://localhost:8080/"
        },
        "id": "CJ5zryCiiLwM",
        "outputId": "89e4690c-b6f8-4eef-d74d-76a540d92669"
      },
      "outputs": [
        {
          "output_type": "execute_result",
          "data": {
            "text/plain": [
              "(0.0, 25691.16)"
            ]
          },
          "metadata": {},
          "execution_count": 13
        }
      ],
      "source": [
        "min(cc.Amount), max(cc.Amount)"
      ]
    },
    {
      "cell_type": "markdown",
      "metadata": {
        "id": "saCHb6hyv--3"
      },
      "source": [
        "#####Majority of the fraud transactions is less than $10,000. The Amount variable has a huge difference thus standadization will be carried out later."
      ]
    },
    {
      "cell_type": "code",
      "execution_count": 14,
      "metadata": {
        "id": "WGK0fUpJwk-E"
      },
      "outputs": [],
      "source": [
        "#from sklearn.preprocessing import StandardScaler\n",
        "#cc['scaled_Amount'] = StandardScaler().fit_transform(cc[\"Amount\"].values.reshape(-1,1))  #-1 in reshape function is used when you dont know or want to explicitly tell the dimension of that axis.\n",
        "#cc =cc.drop(['Amount'],axis=1)\n",
        "#cc.head()"
      ]
    },
    {
      "cell_type": "code",
      "execution_count": 15,
      "metadata": {
        "id": "lBZpysr6iprm"
      },
      "outputs": [],
      "source": [
        "#min(cc.scaled_Amount), max(cc.scaled_Amount)"
      ]
    },
    {
      "cell_type": "code",
      "execution_count": 16,
      "metadata": {
        "id": "o-12ViC1kho8"
      },
      "outputs": [],
      "source": [
        "#Check on Amount variable after standardization \n",
        "#fig, (ax5,ax6) = plt.subplots(2,1, figsize = (6,3), sharex = True)\n",
        "#ax5.hist(cc.scaled_Amount[cc.Class==0],bins=50,color='g',alpha=0.5)\n",
        "#ax5.set_yscale('log') # to see the tails\n",
        "#ax5.set_title('Genuine') # to see the tails\n",
        "#ax5.set_ylabel('Number of transactions')\n",
        "#ax6.hist(cc.scaled_Amount[cc.Class==1],bins=50,color='r',alpha=0.5)\n",
        "#ax6.set_yscale('log') # to see the tails\n",
        "#ax6.set_title('Fraud') # to see the tails\n",
        "#ax6.set_xlabel('Amount ($)')\n",
        "#ax6.set_ylabel('Number of transactions')"
      ]
    },
    {
      "cell_type": "markdown",
      "metadata": {
        "id": "dkujvUjmmiMc"
      },
      "source": [
        "#####Standardization library has tried it best to transform data to fit normal distribution without changing the data. "
      ]
    },
    {
      "cell_type": "code",
      "execution_count": 17,
      "metadata": {
        "colab": {
          "base_uri": "https://localhost:8080/",
          "height": 0
        },
        "id": "ZhObybVswyuP",
        "outputId": "63a7736c-ce87-4031-a7d8-67feee4c3511"
      },
      "outputs": [
        {
          "output_type": "display_data",
          "data": {
            "text/plain": [
              "<Figure size 1440x2016 with 28 Axes>"
            ],
            "image/png": "[encoded data removed]"
          },
          "metadata": {
            "needs_background": "light"
          }
        }
      ],
      "source": [
        "#Check the distribution for the 28 PCA variables\n",
        "\n",
        "n_cols = 4\n",
        "n_rows = 7\n",
        "\n",
        "num_variable = [col for col in cc.columns if col.find('V') > -1]\n",
        "\n",
        "fig = plt.gcf()\n",
        "fig.set_size_inches(n_cols * 5, n_rows * 4)\n",
        "\n",
        "for pos, var in enumerate(num_variable):\n",
        "    sp = plt.subplot(n_rows, n_cols, pos + 1)\n",
        "    plt.hist(cc[var], bins=30)\n",
        "    plt.title(var)\n",
        "\n",
        "plt.show()"
      ]
    },
    {
      "cell_type": "markdown",
      "metadata": {
        "id": "ZFwvBL2bzGuu"
      },
      "source": [
        "#####Most of the variables are having normal distribution."
      ]
    },
    {
      "cell_type": "code",
      "execution_count": 18,
      "metadata": {
        "colab": {
          "base_uri": "https://localhost:8080/",
          "height": 312
        },
        "id": "-VZoohuTqTGY",
        "outputId": "46290531-4158-40d8-9a80-ad4007992584"
      },
      "outputs": [
        {
          "output_type": "display_data",
          "data": {
            "text/plain": [
              "<Figure size 432x288 with 2 Axes>"
            ],
            "image/png": "[encoded data removed]"
          },
          "metadata": {
            "needs_background": "light"
          }
        }
      ],
      "source": [
        "#Check the correlation of all the variables\n",
        "correlation = cc.corr()\n",
        "ax = sns.heatmap(correlation, center=0, cmap='RdBu_r')\n",
        "l, r = ax.get_ylim()\n",
        "ax.set_ylim(l + 0.5, r - 0.5)\n",
        "plt.yticks(rotation=0)\n",
        "plt.title('Correlation Matrix')\n",
        "plt.show()"
      ]
    },
    {
      "cell_type": "markdown",
      "metadata": {
        "id": "DFNZOAiuz6P5"
      },
      "source": [
        "#####All the variables have weak correlation to each other."
      ]
    },
    {
      "cell_type": "code",
      "execution_count": 19,
      "metadata": {
        "colab": {
          "base_uri": "https://localhost:8080/"
        },
        "id": "UDNBNUnhzmpT",
        "outputId": "74ed3fe1-0714-4244-88cb-436869e2d2b0"
      },
      "outputs": [
        {
          "output_type": "stream",
          "name": "stdout",
          "text": [
            "              V1        V2        V3        V4        V5        V6        V7  \\\n",
            "33     -0.529912  0.873892  1.347247  0.145457  0.414209  0.100223  0.711206   \n",
            "35     -0.535388  0.865268  1.351076  0.147575  0.433680  0.086983  0.693039   \n",
            "113     1.038370  0.127486  0.184456  1.109950  0.441699  0.945283 -0.036715   \n",
            "114     1.038370  0.127486  0.184456  1.109950  0.441699  0.945283 -0.036715   \n",
            "115     1.038370  0.127486  0.184456  1.109950  0.441699  0.945283 -0.036715   \n",
            "...          ...       ...       ...       ...       ...       ...       ...   \n",
            "282987  1.912550 -0.455240 -1.750654  0.454324  2.089130  4.160019 -0.881302   \n",
            "283483 -1.464380  1.368119  0.815992 -0.601282 -0.689115 -0.487154 -0.303778   \n",
            "283485 -1.457978  1.378203  0.811515 -0.603760 -0.711883 -0.471672 -0.282535   \n",
            "284191 -2.667936  3.160505 -3.355984  1.007845 -0.377397 -0.109730 -0.667233   \n",
            "284193 -2.691642  3.123168 -3.339407  1.017018 -0.293095 -0.167054 -0.745886   \n",
            "\n",
            "              V8        V9       V10  ...       V22       V23       V24  \\\n",
            "33      0.176066 -0.286717 -0.484688  ...  0.208105 -0.185548  0.001031   \n",
            "35      0.179742 -0.285642 -0.482474  ...  0.206537 -0.187108  0.000753   \n",
            "113     0.350995  0.118950 -0.243289  ...  0.605089  0.023092 -0.626463   \n",
            "114     0.350995  0.118950 -0.243289  ...  0.605089  0.023092 -0.626463   \n",
            "115     0.350995  0.118950 -0.243289  ...  0.605089  0.023092 -0.626463   \n",
            "...          ...       ...       ...  ...       ...       ...       ...   \n",
            "282987  1.081750  1.022928  0.005356  ... -1.337510  0.473943  0.616683   \n",
            "283483  0.884953  0.054065 -0.828015  ...  0.947825 -0.218773  0.082926   \n",
            "283485  0.880654  0.052808 -0.830603  ...  0.949659 -0.216949  0.083250   \n",
            "284191  2.309700 -1.639306 -1.449823  ...  0.266536 -0.079853 -0.096395   \n",
            "284193  2.325616 -1.634651 -1.440241  ...  0.259746 -0.086606 -0.097597   \n",
            "\n",
            "             V25       V26       V27       V28  Amount  Class    Time_Hr  \n",
            "33      0.098816 -0.552904 -0.073288  0.023307    6.14      0   0.007222  \n",
            "35      0.098117 -0.553471 -0.078306  0.025427    1.77      0   0.007222  \n",
            "113     0.479120 -0.166937  0.081247  0.001192    1.18      0   0.020556  \n",
            "114     0.479120 -0.166937  0.081247  0.001192    1.18      0   0.020556  \n",
            "115     0.479120 -0.166937  0.081247  0.001192    1.18      0   0.020556  \n",
            "...          ...       ...       ...       ...     ...    ...        ...  \n",
            "282987 -0.283548 -1.084843  0.073133 -0.036020   11.99      0  47.580000  \n",
            "283483  0.044127  0.639270  0.213565  0.119251    6.82      0  47.674167  \n",
            "283485  0.044944  0.639933  0.219432  0.116772   11.93      0  47.674167  \n",
            "284191  0.086719 -0.451128 -1.183743 -0.222200   55.66      0  47.842500  \n",
            "284193  0.083693 -0.453584 -1.205466 -0.213020   36.74      0  47.842500  \n",
            "\n",
            "[1081 rows x 31 columns]\n"
          ]
        }
      ],
      "source": [
        "#Check any duplicate transaction\n",
        "print(cc[cc.duplicated()])"
      ]
    },
    {
      "cell_type": "code",
      "execution_count": 20,
      "metadata": {
        "colab": {
          "base_uri": "https://localhost:8080/"
        },
        "id": "t8non8r14-Ul",
        "outputId": "69b2f6ca-c166-4b68-ae8a-c543e7090e6f"
      },
      "outputs": [
        {
          "output_type": "execute_result",
          "data": {
            "text/plain": [
              "(283726, 31)"
            ]
          },
          "metadata": {},
          "execution_count": 20
        }
      ],
      "source": [
        "#Remove duplicate transaction\n",
        "cc.drop_duplicates(inplace=True)\n",
        "cc.shape"
      ]
    },
    {
      "cell_type": "markdown",
      "metadata": {
        "id": "kulMqvnq5lOZ"
      },
      "source": [
        "#####We have removed 1081 row of duplicated transactions. The total transactions reduced from 284807 to 283726. "
      ]
    },
    {
      "cell_type": "markdown",
      "metadata": {
        "id": "SrMc5Pq45aSa"
      },
      "source": [
        "##Model Building"
      ]
    },
    {
      "cell_type": "code",
      "execution_count": 21,
      "metadata": {
        "id": "AyKPTzOi7BiF"
      },
      "outputs": [],
      "source": [
        "#Define independent, X, and dependent variables, y.\n",
        "X = cc.drop(\"Class\", axis=1).values\n",
        "y = cc[\"Class\"].values"
      ]
    },
    {
      "cell_type": "code",
      "source": [
        "#Treat Imbalance data using Synthetic Minority Over-sampling Technique (SMOTE)\n",
        "sm = SMOTE(random_state=42)\n",
        "#X_res, y_res = sm.fit_resample(X_train, y_train)\n",
        "X_bal, y_bal = sm.fit_resample(X, y)"
      ],
      "metadata": {
        "id": "fyBPjZ6_9LV2"
      },
      "execution_count": 22,
      "outputs": []
    },
    {
      "cell_type": "code",
      "source": [
        "#unique_elements, counts_elements = np.unique(y, return_counts=True)\n",
        "#print(\"Frequency of unique values Class before SMOTE:\")\n",
        "#print(np.asarray((unique_elements, counts_elements)))\n",
        "\n",
        "#unique_elements, counts_elements = np.unique(y_bal, return_counts=True)\n",
        "#print(\"Frequency of unique values Class after SMOTE:\")\n",
        "#print(np.asarray((unique_elements, counts_elements)))"
      ],
      "metadata": {
        "id": "eQ0WMIn0EeZ1"
      },
      "execution_count": 23,
      "outputs": []
    },
    {
      "cell_type": "code",
      "source": [
        "def print_unique(label_before, label_after):\n",
        "  unielementbefore, countelementbefore = np.unique(label_before, return_counts=True)\n",
        "  print(\"Frequency of unique values Class before SMOTE: Geinue is {ybefore0}, while fraud is {ybefore1}\".format(ybefore0=countelementbefore[0], ybefore1=countelementbefore[1]))\n",
        "  \n",
        "  unielementafter, countelementafter = np.unique(label_after, return_counts=True)\n",
        "  print(\"Frequency of unique values Class after SMOTE: Geinue is {yafter0}, while fraud is {yafter1}\".format(yafter0=countelementafter[0], yafter1=countelementafter[1]))\n",
        "  print(\"An increased of \", countelementafter[1]-countelementbefore[1], \"to achieve balancing\") "
      ],
      "metadata": {
        "id": "RFlJoUKLHEbe"
      },
      "execution_count": 54,
      "outputs": []
    },
    {
      "cell_type": "code",
      "source": [
        "print_unique(y, y_bal)"
      ],
      "metadata": {
        "colab": {
          "base_uri": "https://localhost:8080/"
        },
        "id": "BJGj6S2AIqn7",
        "outputId": "4ef40c2e-c251-4c75-dd02-8104090876f1"
      },
      "execution_count": 55,
      "outputs": [
        {
          "output_type": "stream",
          "name": "stdout",
          "text": [
            "Frequency of unique values Class before SMOTE: Geinue is 283253, while fraud is 473\n",
            "Frequency of unique values Class after SMOTE: Geinue is 283253, while fraud is 283253\n",
            "An increased of  282780 to achieve balancing\n"
          ]
        }
      ]
    },
    {
      "cell_type": "code",
      "execution_count": 26,
      "metadata": {
        "id": "F8-NIZrm7STf"
      },
      "outputs": [],
      "source": [
        "#Spliting the data into train and test\n",
        "X_train, X_test, y_train, y_test = train_test_split(X_bal, y_bal, test_size=0.30, random_state=1)"
      ]
    },
    {
      "cell_type": "code",
      "execution_count": 27,
      "metadata": {
        "id": "Rh3H5D988aai"
      },
      "outputs": [],
      "source": [
        "#Classification model 1 - Decision Tree\n",
        "#from sklearn.tree import DecisionTreeClassifier \n",
        "#DT = DecisionTreeClassifier(max_depth=4, criterion='entropy')\n",
        "#DT.fit(X_train, y_train)\n",
        "#DT.pred = DT.predict(X_test)"
      ]
    },
    {
      "cell_type": "code",
      "execution_count": 28,
      "metadata": {
        "id": "dLdYvf8y92IV"
      },
      "outputs": [],
      "source": [
        "#Initiate model pipeline\n",
        "dt_pipe = make_pipeline(StandardScaler(), DecisionTreeClassifier())\n",
        "xgb_pipe = make_pipeline(StandardScaler(), XGBClassifier())\n",
        "lgbm_pipe = make_pipeline(StandardScaler(), LGBMClassifier())"
      ]
    },
    {
      "cell_type": "code",
      "source": [
        "#Check the parameters availale\n",
        "#xgb_pipe.get_params()"
      ],
      "metadata": {
        "id": "h-qchlm-P_Fg"
      },
      "execution_count": 29,
      "outputs": []
    },
    {
      "cell_type": "code",
      "source": [
        "#Create search grid\n",
        "param_grid_dt = {\"decisiontreeclassifier__max_depth\": [2, 4], \"decisiontreeclassifier__min_samples_split\" : [5, 10]}\n",
        "param_grid_xgb = {\"xgbclassifier__max_depth\": [2, 4], \"xgbclassifier__learning_rate\": [0.01, 0.2], \"xgbclassifier__min_child_weight\": [1, 4]}\n",
        "param_grid_lgbm = {\"lgbmclassifier__max_depth\": [2, 4], \"lgbmclassifier__learning_rate\": [0.01, 0.2], \"lgbmclassifier__n_estimators\": [5,10]}"
      ],
      "metadata": {
        "id": "nCUx6u0aO0yZ"
      },
      "execution_count": 30,
      "outputs": []
    },
    {
      "cell_type": "code",
      "source": [
        "#Initiate grid search\n",
        "dt_grid = GridSearchCV(dt_pipe, param_grid_dt, cv=5)\n",
        "xgb_grid = GridSearchCV(xgb_pipe, param_grid_xgb, cv=5)\n",
        "lgbm_grid = GridSearchCV(lgbm_pipe, param_grid_lgbm , cv=5)"
      ],
      "metadata": {
        "id": "neEbC8G7fJh1"
      },
      "execution_count": 31,
      "outputs": []
    },
    {
      "cell_type": "code",
      "source": [
        "#Run grid search\n",
        "dt_grid.fit(X_train, y_train)\n",
        "xgb_grid.fit(X_train, y_train)\n",
        "lgbm_grid.fit(X_train, y_train)"
      ],
      "metadata": {
        "colab": {
          "base_uri": "https://localhost:8080/"
        },
        "id": "bnMhJW_Kl7u0",
        "outputId": "1d124d1e-f33b-4fbb-8bdf-d5876c283894"
      },
      "execution_count": 32,
      "outputs": [
        {
          "output_type": "execute_result",
          "data": {
            "text/plain": [
              "GridSearchCV(cv=5,\n",
              "             estimator=Pipeline(steps=[('standardscaler', StandardScaler()),\n",
              "                                       ('lgbmclassifier', LGBMClassifier())]),\n",
              "             param_grid={'lgbmclassifier__learning_rate': [0.01, 0.2],\n",
              "                         'lgbmclassifier__max_depth': [2, 4],\n",
              "                         'lgbmclassifier__n_estimators': [5, 10]})"
            ]
          },
          "metadata": {},
          "execution_count": 32
        }
      ]
    },
    {
      "cell_type": "code",
      "source": [
        "#Report best parameter & score\n",
        "print(dt_grid.best_params_)\n",
        "print(dt_grid.score(X_test, y_test))\n",
        "\n",
        "print(xgb_grid.best_params_)\n",
        "print(xgb_grid.score(X_test, y_test))\n",
        "\n",
        "print(lgbm_grid.best_params_)\n",
        "print(lgbm_grid.score(X_test, y_test))"
      ],
      "metadata": {
        "colab": {
          "base_uri": "https://localhost:8080/"
        },
        "id": "LoSDK_BRmRJ_",
        "outputId": "b8c249ef-47c2-4e48-d9a6-bab13200a367"
      },
      "execution_count": 33,
      "outputs": [
        {
          "output_type": "stream",
          "name": "stdout",
          "text": [
            "{'decisiontreeclassifier__max_depth': 4, 'decisiontreeclassifier__min_samples_split': 10}\n",
            "0.9520276313311994\n",
            "{'xgbclassifier__learning_rate': 0.2, 'xgbclassifier__max_depth': 4, 'xgbclassifier__min_child_weight': 1}\n",
            "0.9984054321220109\n",
            "{'lgbmclassifier__learning_rate': 0.2, 'lgbmclassifier__max_depth': 4, 'lgbmclassifier__n_estimators': 10}\n",
            "0.9658256448879684\n"
          ]
        }
      ]
    },
    {
      "cell_type": "code",
      "source": [
        "#Output the prediction result using the model with the best predictive model\n",
        "#dt_pred = dt_grid.predict(X_test)\n",
        "#dt_pred = dt_pipe.predict(X_test)\n",
        "#print(dt_pred)\n",
        "\n",
        "#xgb_pred = xgb_grid.predict(X_test)\n",
        "xgb_pred = xgb_grid.predict(X_test)\n",
        "#xgb_pred = xgb_pipe.predict(X_test)\n",
        "print(xgb_pred)\n",
        "\n",
        "#lgbm_pred = lgbm_grid.predict(X_test)\n",
        "#print(lgbm_pred)"
      ],
      "metadata": {
        "colab": {
          "base_uri": "https://localhost:8080/"
        },
        "id": "P5kP6u3zv8tq",
        "outputId": "13b3e301-9f31-4d94-dc5c-89ed3761689b"
      },
      "execution_count": 36,
      "outputs": [
        {
          "output_type": "stream",
          "name": "stdout",
          "text": [
            "[0 1 1 ... 1 0 1]\n"
          ]
        }
      ]
    },
    {
      "cell_type": "code",
      "source": [
        "#Get importance\n",
        "#importance = cc.feature_importances_"
      ],
      "metadata": {
        "colab": {
          "base_uri": "https://localhost:8080/",
          "height": 305
        },
        "id": "qvBT5SQK1RhY",
        "outputId": "73e4934d-120f-4e26-851b-1ffa1addcd47"
      },
      "execution_count": 37,
      "outputs": [
        {
          "output_type": "error",
          "ename": "AttributeError",
          "evalue": "ignored",
          "traceback": [
            "\u001b[0;31m---------------------------------------------------------------------------\u001b[0m",
            "\u001b[0;31mAttributeError\u001b[0m                            Traceback (most recent call last)",
            "\u001b[0;32m<ipython-input-37-3b3ca953a232>\u001b[0m in \u001b[0;36m<module>\u001b[0;34m()\u001b[0m\n\u001b[1;32m      1\u001b[0m \u001b[0;31m#Get importance\u001b[0m\u001b[0;34m\u001b[0m\u001b[0;34m\u001b[0m\u001b[0;34m\u001b[0m\u001b[0m\n\u001b[0;32m----> 2\u001b[0;31m \u001b[0mimportance\u001b[0m \u001b[0;34m=\u001b[0m \u001b[0mcc\u001b[0m\u001b[0;34m.\u001b[0m\u001b[0mfeature_importances_\u001b[0m\u001b[0;34m\u001b[0m\u001b[0;34m\u001b[0m\u001b[0m\n\u001b[0m",
            "\u001b[0;32m/usr/local/lib/python3.7/dist-packages/pandas/core/generic.py\u001b[0m in \u001b[0;36m__getattr__\u001b[0;34m(self, name)\u001b[0m\n\u001b[1;32m   5485\u001b[0m         ):\n\u001b[1;32m   5486\u001b[0m             \u001b[0;32mreturn\u001b[0m \u001b[0mself\u001b[0m\u001b[0;34m[\u001b[0m\u001b[0mname\u001b[0m\u001b[0;34m]\u001b[0m\u001b[0;34m\u001b[0m\u001b[0;34m\u001b[0m\u001b[0m\n\u001b[0;32m-> 5487\u001b[0;31m         \u001b[0;32mreturn\u001b[0m \u001b[0mobject\u001b[0m\u001b[0;34m.\u001b[0m\u001b[0m__getattribute__\u001b[0m\u001b[0;34m(\u001b[0m\u001b[0mself\u001b[0m\u001b[0;34m,\u001b[0m \u001b[0mname\u001b[0m\u001b[0;34m)\u001b[0m\u001b[0;34m\u001b[0m\u001b[0;34m\u001b[0m\u001b[0m\n\u001b[0m\u001b[1;32m   5488\u001b[0m \u001b[0;34m\u001b[0m\u001b[0m\n\u001b[1;32m   5489\u001b[0m     \u001b[0;32mdef\u001b[0m \u001b[0m__setattr__\u001b[0m\u001b[0;34m(\u001b[0m\u001b[0mself\u001b[0m\u001b[0;34m,\u001b[0m \u001b[0mname\u001b[0m\u001b[0;34m:\u001b[0m \u001b[0mstr\u001b[0m\u001b[0;34m,\u001b[0m \u001b[0mvalue\u001b[0m\u001b[0;34m)\u001b[0m \u001b[0;34m->\u001b[0m \u001b[0;32mNone\u001b[0m\u001b[0;34m:\u001b[0m\u001b[0;34m\u001b[0m\u001b[0;34m\u001b[0m\u001b[0m\n",
            "\u001b[0;31mAttributeError\u001b[0m: 'DataFrame' object has no attribute 'feature_importances_'"
          ]
        }
      ]
    },
    {
      "cell_type": "code",
      "source": [
        "#display(X)"
      ],
      "metadata": {
        "colab": {
          "base_uri": "https://localhost:8080/",
          "height": 243
        },
        "id": "70VadkfDrb1h",
        "outputId": "92851a6d-509d-40f4-c181-245b3dcd3ab8"
      },
      "execution_count": 53,
      "outputs": [
        {
          "output_type": "display_data",
          "data": {
            "text/plain": [
              "array([[-1.35980713e+00, -7.27811733e-02,  2.53634674e+00, ...,\n",
              "        -2.10530535e-02,  1.49620000e+02,  0.00000000e+00],\n",
              "       [ 1.19185711e+00,  2.66150712e-01,  1.66480113e-01, ...,\n",
              "         1.47241692e-02,  2.69000000e+00,  0.00000000e+00],\n",
              "       [-1.35835406e+00, -1.34016307e+00,  1.77320934e+00, ...,\n",
              "        -5.97518406e-02,  3.78660000e+02,  2.77777778e-04],\n",
              "       ...,\n",
              "       [ 1.91956501e+00, -3.01253846e-01, -3.24963981e+00, ...,\n",
              "        -2.65608286e-02,  6.78800000e+01,  4.79966667e+01],\n",
              "       [-2.40440050e-01,  5.30482513e-01,  7.02510230e-01, ...,\n",
              "         1.04532821e-01,  1.00000000e+01,  4.79966667e+01],\n",
              "       [-5.33412522e-01, -1.89733337e-01,  7.03337367e-01, ...,\n",
              "         1.36489143e-02,  2.17000000e+02,  4.79977778e+01]])"
            ]
          },
          "metadata": {}
        }
      ]
    },
    {
      "cell_type": "code",
      "source": [
        "#Define independent, XX, and dependent variables, yy.\n",
        "XX = cc.drop(\"Class\", axis=1)\n",
        "yy = cc[\"Class\"]"
      ],
      "metadata": {
        "id": "XnhTfT4Xr9m_"
      },
      "execution_count": 41,
      "outputs": []
    },
    {
      "cell_type": "code",
      "source": [
        "#print(xgb_grid.best_estimator_)"
      ],
      "metadata": {
        "colab": {
          "base_uri": "https://localhost:8080/"
        },
        "id": "ni2AXhDLte-O",
        "outputId": "76aecd78-6ce1-4da2-bf78-76ffc3ba6faf"
      },
      "execution_count": 46,
      "outputs": [
        {
          "output_type": "stream",
          "name": "stdout",
          "text": [
            "Pipeline(steps=[('standardscaler', StandardScaler()),\n",
            "                ('xgbclassifier',\n",
            "                 XGBClassifier(learning_rate=0.2, max_depth=4))])\n"
          ]
        }
      ]
    },
    {
      "cell_type": "code",
      "source": [
        "#Define the best estimator from param\n",
        "xgb_bestestimators = XGBClassifier(xgbclassifier__learning_rate= 0.2, xgbclassifier__max_depth = 4, xgbclassifier__min_child_weight = 1)"
      ],
      "metadata": {
        "id": "4qSG9YEVwTo_"
      },
      "execution_count": 48,
      "outputs": []
    },
    {
      "cell_type": "code",
      "source": [
        "#Fit the best estimator to the model\n",
        "xgb_bestestimators.fit(X_train, y_train)"
      ],
      "metadata": {
        "colab": {
          "base_uri": "https://localhost:8080/"
        },
        "id": "deStWTx1w7nO",
        "outputId": "1c619d01-4ec2-42ad-e63b-340c9edc1796"
      },
      "execution_count": 50,
      "outputs": [
        {
          "output_type": "execute_result",
          "data": {
            "text/plain": [
              "XGBClassifier(xgbclassifier__learning_rate=0.2, xgbclassifier__max_depth=4,\n",
              "              xgbclassifier__min_child_weight=1)"
            ]
          },
          "metadata": {},
          "execution_count": 50
        }
      ]
    },
    {
      "cell_type": "code",
      "source": [
        "#Determine the variables that have high predictive power\n",
        "importance = pd.DataFrame({\n",
        "    'features': XX.columns,\n",
        "    'importance': xgb_bestestimators.feature_importances_\n",
        "})\n",
        "importance.sort_values(by='importance', inplace=True)\n",
        "\n",
        "plt.figure(figsize=(12, 16))\n",
        "plt.barh(importance['features'], importance['importance'])\n",
        "plt.title('XGBoost Feature Importance')\n",
        "plt.show()"
      ],
      "metadata": {
        "colab": {
          "base_uri": "https://localhost:8080/",
          "height": 934
        },
        "id": "2Jl42L10q5dZ",
        "outputId": "87ae32ed-ba49-4023-a325-fc1b2a5cd44f"
      },
      "execution_count": 52,
      "outputs": [
        {
          "output_type": "display_data",
          "data": {
            "text/plain": [
              "<Figure size 864x1152 with 1 Axes>"
            ],
            "image/png": "[encoded data removed]"
          },
          "metadata": {
            "needs_background": "light"
          }
        }
      ]
    },
    {
      "cell_type": "markdown",
      "source": [
        "#####V14, V10 and V4 are the three most important features that have high predictive power in the model. "
      ],
      "metadata": {
        "id": "vfvwj3nB1WdV"
      }
    }
  ],
  "metadata": {
    "colab": {
      "name": "Credit Card Fraud Classification.ipynb",
      "provenance": []
    },
    "kernelspec": {
      "display_name": "Python 3",
      "name": "python3"
    },
    "language_info": {
      "name": "python"
    },
    "accelerator": "TPU"
  },
  "nbformat": 4,
  "nbformat_minor": 0
}